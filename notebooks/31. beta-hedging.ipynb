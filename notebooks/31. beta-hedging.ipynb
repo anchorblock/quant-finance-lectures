{
 "cells": [
  {
   "cell_type": "code",
   "execution_count": 2,
   "metadata": {},
   "outputs": [],
   "source": [
    "import numpy as np\n",
    "from statsmodels import regression\n",
    "import statsmodels.api as sm\n",
    "import matplotlib.pyplot as plt\n",
    "import math\n",
    "from utils import *"
   ]
  },
  {
   "cell_type": "code",
   "execution_count": 3,
   "metadata": {},
   "outputs": [
    {
     "name": "stdout",
     "output_type": "stream",
     "text": [
      "['00DS30', '00DSES', '00DSEX', '1JANATAMF', '1STPRIMFMF', 'AAMRANET', 'AAMRATECH', 'ABB1STMF', 'ABBANK', 'ACFL', 'ACI', 'ACIFORMULA', 'ACMELAB', 'ACTIVEFINE', 'ADNTEL', 'ADVENT', 'AFCAGRO', 'AFTABAUTO', 'AGNISYSL', 'AGRANINS']\n"
     ]
    }
   ],
   "source": [
    "datadir = \"/root/codespace/quant-finance-lectures/amarstock_adjusted_data/daily\"\n",
    "top20 = get_top20_stocks(path=datadir)\n",
    "top20names = [i[0] for i in top20]\n",
    "print(top20names)"
   ]
  },
  {
   "cell_type": "code",
   "execution_count": 4,
   "metadata": {},
   "outputs": [],
   "source": [
    "startdate, enddate = 510, 960\n",
    "\n",
    "stockname = '00DS30'\n",
    "df = get_prices(stockname, path=datadir) \n",
    "stocks = get_stocknames(path=datadir)\n",
    "\n",
    "for i in stocks:\n",
    "    if i=='00DSE30':\n",
    "        print(i)"
   ]
  },
  {
   "cell_type": "code",
   "execution_count": null,
   "metadata": {},
   "outputs": [],
   "source": []
  }
 ],
 "metadata": {
  "kernelspec": {
   "display_name": "Python 3.10.4 ('qfl': venv)",
   "language": "python",
   "name": "python3"
  },
  "language_info": {
   "codemirror_mode": {
    "name": "ipython",
    "version": 3
   },
   "file_extension": ".py",
   "mimetype": "text/x-python",
   "name": "python",
   "nbconvert_exporter": "python",
   "pygments_lexer": "ipython3",
   "version": "3.10.4"
  },
  "orig_nbformat": 4,
  "vscode": {
   "interpreter": {
    "hash": "93fa1d70092cc9c9a9dd3f4b818b05d09ea5d4cc735419487094ad3e6e6f8fab"
   }
  }
 },
 "nbformat": 4,
 "nbformat_minor": 2
}

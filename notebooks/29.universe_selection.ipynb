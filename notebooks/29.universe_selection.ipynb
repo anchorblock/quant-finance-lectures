{
 "cells": [
  {
   "cell_type": "code",
   "execution_count": null,
   "metadata": {},
   "outputs": [],
   "source": []
  }
 ],
 "metadata": {
  "kernelspec": {
   "display_name": "Python 3.10.4 ('qfl': venv)",
   "language": "python",
   "name": "python3"
  },
  "language_info": {
   "name": "python",
   "version": "3.10.4"
  },
  "orig_nbformat": 4,
  "vscode": {
   "interpreter": {
    "hash": "93fa1d70092cc9c9a9dd3f4b818b05d09ea5d4cc735419487094ad3e6e6f8fab"
   }
  }
 },
 "nbformat": 4,
 "nbformat_minor": 2
}

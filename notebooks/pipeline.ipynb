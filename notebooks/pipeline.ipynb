{
 "cells": [
  {
   "cell_type": "code",
   "execution_count": 22,
   "metadata": {},
   "outputs": [
    {
     "name": "stdout",
     "output_type": "stream",
     "text": [
      "\u001b[31mERROR: Could not find a version that satisfies the requirement quantopian (from versions: none)\u001b[0m\n",
      "\u001b[31mERROR: No matching distribution found for quantopian\u001b[0m\n",
      "\u001b[33mWARNING: You are using pip version 20.2.3; however, version 22.3 is available.\n",
      "You should consider upgrading via the '/root/abenv/bin/python3 -m pip install --upgrade pip' command.\u001b[0m\n"
     ]
    }
   ],
   "source": [
    "!pip install quantopian"
   ]
  },
  {
   "cell_type": "code",
   "execution_count": 19,
   "metadata": {},
   "outputs": [],
   "source": [
    "from datetime import datetime\n",
    "import pytz\n",
    "start_date = datetime(2015, 1, 1, 0, 0, 0, 0, pytz.utc)\n",
    "end_date = datetime(2016, 1, 1, 0, 0, 0, 0, pytz.utc)"
   ]
  },
  {
   "cell_type": "code",
   "execution_count": 23,
   "metadata": {},
   "outputs": [],
   "source": [
    "# from zipline.pipeline import Pipeline"
   ]
  },
  {
   "cell_type": "code",
   "execution_count": 24,
   "metadata": {},
   "outputs": [
    {
     "ename": "ModuleNotFoundError",
     "evalue": "No module named 'zipline.pipeline.data.builtin'",
     "output_type": "error",
     "traceback": [
      "\u001b[0;31m---------------------------------------------------------------------------\u001b[0m",
      "\u001b[0;31mModuleNotFoundError\u001b[0m                       Traceback (most recent call last)",
      "\u001b[1;32m/root/codespace/quant-finance-lectures/notebooks/pipeline.ipynb Cell 4\u001b[0m in \u001b[0;36m<cell line: 7>\u001b[0;34m()\u001b[0m\n\u001b[1;32m      <a href='vscode-notebook-cell://wsl%2Bubuntu-22.04/root/codespace/quant-finance-lectures/notebooks/pipeline.ipynb#W1sdnNjb2RlLXJlbW90ZQ%3D%3D?line=4'>5</a>\u001b[0m \u001b[39mfrom\u001b[39;00m \u001b[39mzipline\u001b[39;00m\u001b[39m.\u001b[39;00m\u001b[39mpipeline\u001b[39;00m \u001b[39mimport\u001b[39;00m Pipeline\n\u001b[1;32m      <a href='vscode-notebook-cell://wsl%2Bubuntu-22.04/root/codespace/quant-finance-lectures/notebooks/pipeline.ipynb#W1sdnNjb2RlLXJlbW90ZQ%3D%3D?line=5'>6</a>\u001b[0m \u001b[39mfrom\u001b[39;00m \u001b[39mzipline\u001b[39;00m\u001b[39m.\u001b[39;00m\u001b[39mpipeline\u001b[39;00m \u001b[39mimport\u001b[39;00m CustomFactor\n\u001b[0;32m----> <a href='vscode-notebook-cell://wsl%2Bubuntu-22.04/root/codespace/quant-finance-lectures/notebooks/pipeline.ipynb#W1sdnNjb2RlLXJlbW90ZQ%3D%3D?line=6'>7</a>\u001b[0m \u001b[39mfrom\u001b[39;00m \u001b[39mzipline\u001b[39;00m\u001b[39m.\u001b[39;00m\u001b[39mpipeline\u001b[39;00m\u001b[39m.\u001b[39;00m\u001b[39mdata\u001b[39;00m\u001b[39m.\u001b[39;00m\u001b[39mbuiltin\u001b[39;00m \u001b[39mimport\u001b[39;00m USEquityPricing\n\u001b[1;32m      <a href='vscode-notebook-cell://wsl%2Bubuntu-22.04/root/codespace/quant-finance-lectures/notebooks/pipeline.ipynb#W1sdnNjb2RlLXJlbW90ZQ%3D%3D?line=7'>8</a>\u001b[0m \u001b[39mfrom\u001b[39;00m \u001b[39mzipline\u001b[39;00m\u001b[39m.\u001b[39;00m\u001b[39mpipeline\u001b[39;00m\u001b[39m.\u001b[39;00m\u001b[39mdata\u001b[39;00m \u001b[39mimport\u001b[39;00m morningstar\n\u001b[1;32m     <a href='vscode-notebook-cell://wsl%2Bubuntu-22.04/root/codespace/quant-finance-lectures/notebooks/pipeline.ipynb#W1sdnNjb2RlLXJlbW90ZQ%3D%3D?line=10'>11</a>\u001b[0m \u001b[39m# Create custom factor #1 Trading Volume/Shares Outstanding\u001b[39;00m\n",
      "\u001b[0;31mModuleNotFoundError\u001b[0m: No module named 'zipline.pipeline.data.builtin'"
     ]
    }
   ],
   "source": [
    "from zipline.api import schedule_function, date_rules, time_rules, sid, symbol, symbols, \\\n",
    "        get_datetime, order_target_percent, record, attach_pipeline, set_commission, \\\n",
    "        order_target, pipeline_output\n",
    "\n",
    "from zipline.pipeline import Pipeline\n",
    "from zipline.pipeline import CustomFactor\n",
    "from zipline.pipeline.data.builtin import USEquityPricing\n",
    "from zipline.pipeline.data import morningstar\n",
    "\n",
    "\n",
    "# Create custom factor #1 Trading Volume/Shares Outstanding\n",
    "class Liquidity(CustomFactor):   \n",
    "    \n",
    "    # Pre-declare inputs and window_length\n",
    "    inputs = [USEquityPricing.volume, morningstar.valuation.shares_outstanding] \n",
    "    window_length = 1\n",
    "    \n",
    "    # Compute factor1 value\n",
    "    def compute(self, today, assets, out, volume, shares):       \n",
    "        out[:] = volume[-1]/shares[-1]\n",
    "\n",
    "# Create custom factor #2 Price of current day / Price of 60 days ago.        \n",
    "class Momentum(CustomFactor):   \n",
    "    \n",
    "    # Pre-declare inputs and window_length\n",
    "    inputs = [USEquityPricing.close] \n",
    "    window_length = 60\n",
    "    \n",
    "    # Compute factor2 value\n",
    "    def compute(self, today, assets, out, close):       \n",
    "        out[:] = close[-1]/close[0]\n",
    "        \n",
    "# Create custom factor to calculate a market cap based on yesterday's close\n",
    "# We'll use this to get the top 2000 stocks by market cap\n",
    "class MarketCap(CustomFactor):   \n",
    "    \n",
    "    # Pre-declare inputs and window_length\n",
    "    inputs = [USEquityPricing.close, morningstar.valuation.shares_outstanding] \n",
    "    window_length = 1\n",
    "    \n",
    "    # Compute market cap value\n",
    "    def compute(self, today, assets, out, close, shares):       \n",
    "        out[:] = close[-1] * shares[-1]\n",
    "        \n",
    "\n",
    "def initialize(context):\n",
    "    pipe = Pipeline()\n",
    "    attach_pipeline(pipe, 'ranked_2000')\n",
    "       \n",
    "    # Add the two factors defined to the pipeline\n",
    "    liquidity = Liquidity()\n",
    "    pipe.add(liquidity, 'liquidity')\n",
    "    \n",
    "    momentum = Momentum()\n",
    "    pipe.add(momentum, 'momentum')\n",
    "    \n",
    "    # Create and apply a filter representing the top 2000 equities by MarketCap every day\n",
    "    # This is an approximation of the Russell 2000\n",
    "    mkt_cap = MarketCap()\n",
    "    top_2000 = mkt_cap.top(2000)\n",
    "    \n",
    "    # Rank factor 1 and add the rank to our pipeline\n",
    "    liquidity_rank = liquidity.rank(mask=top_2000)\n",
    "    pipe.add(liquidity_rank, 'liq_rank')\n",
    "    \n",
    "    # Rank factor 2 and add the rank to our pipeline\n",
    "    momentum_rank = momentum.rank(mask=top_2000)\n",
    "    pipe.add(momentum_rank, 'mom_rank')\n",
    "    \n",
    "    # Take the average of the two factor rankings, add this to the pipeline\n",
    "    combo_raw = (liquidity_rank+momentum_rank)/2\n",
    "    pipe.add(combo_raw, 'combo_raw') \n",
    "    \n",
    "    # Rank the combo_raw and add that to the pipeline\n",
    "    pipe.add(combo_raw.rank(mask=top_2000), 'combo_rank')\n",
    "    \n",
    "    # Set a screen to ensure that only the top 2000 companies by market cap \n",
    "    # with a momentum factor greater than 0 are returned\n",
    "    pipe.set_screen(top_2000 & (momentum>0))\n",
    "            \n",
    "    # Scedule my rebalance function\n",
    "    schedule_function(func=rebalance, \n",
    "                      date_rule=date_rules.month_start(days_offset=0), \n",
    "                      time_rule=time_rules.market_open(hours=0,minutes=30), \n",
    "                      half_days=True)\n",
    "    \n",
    "    # Schedule my plotting function\n",
    "    schedule_function(func=record_vars,\n",
    "                      date_rule=date_rules.every_day(),\n",
    "                      time_rule=time_rules.market_close(),\n",
    "                      half_days=True)\n",
    "    \n",
    "    # set my leverage\n",
    "    context.long_leverage = 2.00\n",
    "    context.short_leverage = -2.00\n",
    "    \n",
    "            \n",
    "def before_trading_start(context, data):\n",
    "    # Call pipelive_output to get the output\n",
    "    context.output = pipeline_output('ranked_2000')\n",
    "      \n",
    "    # Narrow down the securities to only the top 200 & update my universe\n",
    "    context.long_list = context.output.sort(['combo_rank'], ascending=False).iloc[:100]\n",
    "    context.short_list = context.output.sort(['combo_rank'], ascending=False).iloc[-100:]   \n",
    "\n",
    "def record_vars(context, data):  \n",
    "    \n",
    "     # Record and plot the leverage of our portfolio over time. \n",
    "#     record(leverage = context.account.leverage)\n",
    "    \n",
    "    print (\"Long List\")\n",
    "    log.info(\"\\n\" + str(context.long_list.sort(['combo_rank'], ascending=True).head(10)))\n",
    "    \n",
    "    print (\"Short List\") \n",
    "    log.info(\"\\n\" + str(context.short_list.sort(['combo_rank'], ascending=True).head(10)))\n",
    "\n",
    "# This rebalancing is called according to our schedule_function settings.     \n",
    "def rebalance(context,data):\n",
    "    \n",
    "    long_weight = context.long_leverage / float(len(context.long_list))\n",
    "    short_weight = context.short_leverage / float(len(context.short_list))\n",
    "\n",
    "    \n",
    "    for long_stock in context.long_list.index:\n",
    "        log.info(\"ordering longs: %s\" % (long_stock))\n",
    "        log.info(\"weight is %s\" % (long_weight))\n",
    "        order_target_percent(long_stock, long_weight)\n",
    "        \n",
    "    for short_stock in context.short_list.index:\n",
    "        log.info(\"ordering shorts> %s\" % (short_stock))\n",
    "        log.info(\"weight is %s\" % (short_weight))\n",
    "        order_target_percent(short_stock, short_weight)\n",
    "        \n",
    "    for stock in context.portfolio.positions.iterkeys():\n",
    "        if stock not in context.long_list.index and stock not in context.short_list.index:\n",
    "            order_target(stock, 0)"
   ]
  },
  {
   "cell_type": "code",
   "execution_count": 10,
   "metadata": {},
   "outputs": [
    {
     "data": {
      "text/plain": [
       "'/root/.zipline'"
      ]
     },
     "execution_count": 10,
     "metadata": {},
     "output_type": "execute_result"
    }
   ],
   "source": [
    "os.environ['ZIPLINE_ROOT']"
   ]
  },
  {
   "cell_type": "code",
   "execution_count": 15,
   "metadata": {},
   "outputs": [
    {
     "data": {
      "text/plain": [
       "'/root/.zipline'"
      ]
     },
     "execution_count": 15,
     "metadata": {},
     "output_type": "execute_result"
    }
   ],
   "source": [
    "os.environ['ZIPLINE_ROOT'] "
   ]
  },
  {
   "cell_type": "code",
   "execution_count": null,
   "metadata": {},
   "outputs": [],
   "source": []
  },
  {
   "cell_type": "code",
   "execution_count": 17,
   "metadata": {},
   "outputs": [],
   "source": [
    "import zipline\n",
    "from zipline.data import bundles"
   ]
  },
  {
   "cell_type": "code",
   "execution_count": 18,
   "metadata": {},
   "outputs": [
    {
     "ename": "UnknownBundle",
     "evalue": "No bundle registered with the name 'adjustedbundle'",
     "output_type": "error",
     "traceback": [
      "\u001b[0;31m---------------------------------------------------------------------------\u001b[0m",
      "\u001b[0;31mUnknownBundle\u001b[0m                             Traceback (most recent call last)",
      "\u001b[1;32m/root/codespace/quant-finance-lectures/notebooks/pipeline.ipynb Cell 7\u001b[0m in \u001b[0;36m<cell line: 2>\u001b[0;34m()\u001b[0m\n\u001b[1;32m      <a href='vscode-notebook-cell://wsl%2Bubuntu-22.04/root/codespace/quant-finance-lectures/notebooks/pipeline.ipynb#W6sdnNjb2RlLXJlbW90ZQ%3D%3D?line=0'>1</a>\u001b[0m bundle_name \u001b[39m=\u001b[39m \u001b[39m'\u001b[39m\u001b[39madjustedbundle\u001b[39m\u001b[39m'\u001b[39m\n\u001b[0;32m----> <a href='vscode-notebook-cell://wsl%2Bubuntu-22.04/root/codespace/quant-finance-lectures/notebooks/pipeline.ipynb#W6sdnNjb2RlLXJlbW90ZQ%3D%3D?line=1'>2</a>\u001b[0m bundle_data \u001b[39m=\u001b[39m bundles\u001b[39m.\u001b[39;49mload(bundle_name)\n",
      "File \u001b[0;32m~/abenv/lib/python3.9/site-packages/zipline/data/bundles/core.py:532\u001b[0m, in \u001b[0;36m_make_bundle_core.<locals>.load\u001b[0;34m(name, environ, timestamp)\u001b[0m\n\u001b[1;32m    530\u001b[0m \u001b[39mif\u001b[39;00m timestamp \u001b[39mis\u001b[39;00m \u001b[39mNone\u001b[39;00m:\n\u001b[1;32m    531\u001b[0m     timestamp \u001b[39m=\u001b[39m pd\u001b[39m.\u001b[39mTimestamp\u001b[39m.\u001b[39mutcnow()\n\u001b[0;32m--> 532\u001b[0m timestr \u001b[39m=\u001b[39m most_recent_data(name, timestamp, environ\u001b[39m=\u001b[39;49menviron)\n\u001b[1;32m    533\u001b[0m \u001b[39mreturn\u001b[39;00m BundleData(\n\u001b[1;32m    534\u001b[0m     asset_finder\u001b[39m=\u001b[39mAssetFinder(\n\u001b[1;32m    535\u001b[0m         asset_db_path(name, timestr, environ\u001b[39m=\u001b[39menviron),\n\u001b[0;32m   (...)\u001b[0m\n\u001b[1;32m    545\u001b[0m     ),\n\u001b[1;32m    546\u001b[0m )\n",
      "File \u001b[0;32m~/abenv/lib/python3.9/site-packages/zipline/data/bundles/core.py:485\u001b[0m, in \u001b[0;36m_make_bundle_core.<locals>.most_recent_data\u001b[0;34m(bundle_name, timestamp, environ)\u001b[0m\n\u001b[1;32m    472\u001b[0m \u001b[39m\"\"\"Get the path to the most recent data after ``date``for the\u001b[39;00m\n\u001b[1;32m    473\u001b[0m \u001b[39mgiven bundle.\u001b[39;00m\n\u001b[1;32m    474\u001b[0m \n\u001b[0;32m   (...)\u001b[0m\n\u001b[1;32m    482\u001b[0m \u001b[39m    An environment dict to forward to zipline_root.\u001b[39;00m\n\u001b[1;32m    483\u001b[0m \u001b[39m\"\"\"\u001b[39;00m\n\u001b[1;32m    484\u001b[0m \u001b[39mif\u001b[39;00m bundle_name \u001b[39mnot\u001b[39;00m \u001b[39min\u001b[39;00m bundles:\n\u001b[0;32m--> 485\u001b[0m     \u001b[39mraise\u001b[39;00m UnknownBundle(bundle_name)\n\u001b[1;32m    487\u001b[0m \u001b[39mtry\u001b[39;00m:\n\u001b[1;32m    488\u001b[0m     candidates \u001b[39m=\u001b[39m os\u001b[39m.\u001b[39mlistdir(\n\u001b[1;32m    489\u001b[0m         pth\u001b[39m.\u001b[39mdata_path([bundle_name], environ\u001b[39m=\u001b[39menviron),\n\u001b[1;32m    490\u001b[0m     )\n",
      "\u001b[0;31mUnknownBundle\u001b[0m: No bundle registered with the name 'adjustedbundle'"
     ]
    }
   ],
   "source": [
    "bundle_name = 'adjustedbundle'\n",
    "bundle_data = bundles.load(bundle_name)"
   ]
  },
  {
   "cell_type": "code",
   "execution_count": null,
   "metadata": {},
   "outputs": [],
   "source": []
  }
 ],
 "metadata": {
  "kernelspec": {
   "display_name": "Python 3.9.0 ('abenv')",
   "language": "python",
   "name": "python3"
  },
  "language_info": {
   "codemirror_mode": {
    "name": "ipython",
    "version": 3
   },
   "file_extension": ".py",
   "mimetype": "text/x-python",
   "name": "python",
   "nbconvert_exporter": "python",
   "pygments_lexer": "ipython3",
   "version": "3.9.0"
  },
  "orig_nbformat": 4,
  "vscode": {
   "interpreter": {
    "hash": "fbb93ab697df5d58d0b273cabdd303089af54ef4de6c51bff2dcd74991485b54"
   }
  }
 },
 "nbformat": 4,
 "nbformat_minor": 2
}

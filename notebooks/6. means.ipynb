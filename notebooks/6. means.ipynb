{
 "cells": [
  {
   "cell_type": "code",
   "execution_count": 7,
   "metadata": {},
   "outputs": [],
   "source": [
    "import scipy.stats as stats\n",
    "import numpy as np\n",
    "from utils import *"
   ]
  },
  {
   "cell_type": "code",
   "execution_count": 11,
   "metadata": {},
   "outputs": [],
   "source": [
    "#data\n",
    "x1 = [1, 2, 2, 3, 4, 5, 5, 7]\n",
    "x2 = x1 + [100]"
   ]
  },
  {
   "cell_type": "code",
   "execution_count": 4,
   "metadata": {},
   "outputs": [
    {
     "name": "stdout",
     "output_type": "stream",
     "text": [
      "Mean of x1: 29 / 8 = 3.625\n",
      "Mean of x2: 129 / 9 = 14.333333333333334\n"
     ]
    }
   ],
   "source": [
    "# Arithmatic mean\n",
    "print('Mean of x1:', sum(x1), '/', len(x1), '=', np.mean(x1))\n",
    "print('Mean of x2:', sum(x2), '/', len(x2), '=', np.mean(x2))"
   ]
  },
  {
   "cell_type": "code",
   "execution_count": 5,
   "metadata": {},
   "outputs": [
    {
     "name": "stdout",
     "output_type": "stream",
     "text": [
      "Median of x1: 3.5\n",
      "Median of x2: 4.0\n"
     ]
    }
   ],
   "source": [
    "# median\n",
    "print('Median of x1:', np.median(x1))\n",
    "print('Median of x2:', np.median(x2))"
   ]
  },
  {
   "cell_type": "code",
   "execution_count": 8,
   "metadata": {},
   "outputs": [
    {
     "name": "stdout",
     "output_type": "stream",
     "text": [
      "All of the modes of x1: [2, 5]\n"
     ]
    }
   ],
   "source": [
    "# mode\n",
    "print('All of the modes of x1:', mode(x1))"
   ]
  },
  {
   "cell_type": "code",
   "execution_count": 9,
   "metadata": {},
   "outputs": [
    {
     "name": "stdout",
     "output_type": "stream",
     "text": [
      "Geometric mean of x1: 3.0941040249774403\n",
      "Geometric mean of x2: 4.552534587620071\n"
     ]
    }
   ],
   "source": [
    "# geometric mean\n",
    "print('Geometric mean of x1:', stats.gmean(x1))\n",
    "print('Geometric mean of x2:', stats.gmean(x2))"
   ]
  },
  {
   "cell_type": "code",
   "execution_count": 10,
   "metadata": {},
   "outputs": [
    {
     "name": "stdout",
     "output_type": "stream",
     "text": [
      "Harmonic mean of x1: 2.5590251332825593\n",
      "Harmonic mean of x2: 2.869723656240511\n"
     ]
    }
   ],
   "source": [
    "# harmonic mean\n",
    "print('Harmonic mean of x1:', stats.hmean(x1))\n",
    "print('Harmonic mean of x2:', stats.hmean(x2))"
   ]
  },
  {
   "cell_type": "code",
   "execution_count": 17,
   "metadata": {},
   "outputs": [
    {
     "name": "stdout",
     "output_type": "stream",
     "text": [
      "Mode of returns: [0.0]\n",
      "Mode of bins: [(-0.005855901204738445, 0.003515218631497674)]\n"
     ]
    }
   ],
   "source": [
    "### Applying on real data.\n",
    "stockname = 'MATINSPINN'\n",
    "datadir = \"/root/codespace/quant-finance-lectures/amarstock_adjusted_data/daily\"\n",
    "df = get_prices(stockname, path=datadir) \n",
    "returns = get_returns(dataframe=df, field=\"close\")\n",
    "print('Mode of returns:', mode(returns))\n",
    "\n",
    "hist, bins = np.histogram(returns, 20) # Break data up into 20 bins\n",
    "maxfreq = max(hist)\n",
    "# Find all of the bins that are hit with frequency maxfreq, then print the intervals corresponding to them\n",
    "print('Mode of bins:', [(bins[i], bins[i+1]) for i, j in enumerate(hist) if j == maxfreq])"
   ]
  },
  {
   "cell_type": "code",
   "execution_count": 15,
   "metadata": {},
   "outputs": [],
   "source": []
  },
  {
   "cell_type": "code",
   "execution_count": null,
   "metadata": {},
   "outputs": [],
   "source": []
  }
 ],
 "metadata": {
  "kernelspec": {
   "display_name": "Python 3.9.0 ('abenv')",
   "language": "python",
   "name": "python3"
  },
  "language_info": {
   "codemirror_mode": {
    "name": "ipython",
    "version": 3
   },
   "file_extension": ".py",
   "mimetype": "text/x-python",
   "name": "python",
   "nbconvert_exporter": "python",
   "pygments_lexer": "ipython3",
   "version": "3.9.0"
  },
  "orig_nbformat": 4,
  "vscode": {
   "interpreter": {
    "hash": "fbb93ab697df5d58d0b273cabdd303089af54ef4de6c51bff2dcd74991485b54"
   }
  }
 },
 "nbformat": 4,
 "nbformat_minor": 2
}

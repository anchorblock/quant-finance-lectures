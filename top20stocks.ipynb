{
 "cells": [
  {
   "cell_type": "code",
   "execution_count": 2,
   "metadata": {},
   "outputs": [],
   "source": [
    "import os \n",
    "import pandas as pd\n",
    "datadir = \"/root/codespace/quant-finance-lectures/amarstock_adjusted_data/daily\""
   ]
  },
  {
   "cell_type": "code",
   "execution_count": 10,
   "metadata": {},
   "outputs": [
    {
     "data": {
      "text/plain": [
       "[('00DS30', 3084026774000.0),\n",
       " ('00DSES', 2132060774800.0),\n",
       " ('00DSEX', 3370925421616.0),\n",
       " ('1JANATAMF', 233585572.0),\n",
       " ('1STPRIMFMF', 332978314.0),\n",
       " ('AAMRANET', 148017730.0),\n",
       " ('AAMRATECH', 683394625.0),\n",
       " ('ABB1STMF', 256367920.0),\n",
       " ('ABBANK', 769581974.0),\n",
       " ('ACFL', 104802917.0),\n",
       " ('ACI', 94419722.0),\n",
       " ('ACIFORMULA', 126512844.0),\n",
       " ('ACMELAB', 53292422.0),\n",
       " ('ACTIVEFINE', 848206734.0),\n",
       " ('ADNTEL', 51799485.0),\n",
       " ('ADVENT', 237026778.0),\n",
       " ('AFCAGRO', 336544932.0),\n",
       " ('AFTABAUTO', 297630571.0),\n",
       " ('AGNISYSL', 567261957.0),\n",
       " ('AGRANINS', 25712648.0)]"
      ]
     },
     "execution_count": 10,
     "metadata": {},
     "output_type": "execute_result"
    }
   ],
   "source": [
    "## this code snippet just gives the top 20 stocks\n",
    "stock_list = {}\n",
    "limit = 20\n",
    "files = os.listdir(datadir)\n",
    "for f in files:\n",
    "    stock_list[f[:-4]] = pd.read_csv(f'{datadir}/{f}')['volume'].sum()\n",
    "sorted(stock_list.items())[:limit][:]"
   ]
  },
  {
   "cell_type": "code",
   "execution_count": null,
   "metadata": {},
   "outputs": [],
   "source": []
  }
 ],
 "metadata": {
  "kernelspec": {
   "display_name": "Python 3.10.4 ('qfl': venv)",
   "language": "python",
   "name": "python3"
  },
  "language_info": {
   "codemirror_mode": {
    "name": "ipython",
    "version": 3
   },
   "file_extension": ".py",
   "mimetype": "text/x-python",
   "name": "python",
   "nbconvert_exporter": "python",
   "pygments_lexer": "ipython3",
   "version": "3.10.4"
  },
  "orig_nbformat": 4,
  "vscode": {
   "interpreter": {
    "hash": "93fa1d70092cc9c9a9dd3f4b818b05d09ea5d4cc735419487094ad3e6e6f8fab"
   }
  }
 },
 "nbformat": 4,
 "nbformat_minor": 2
}
